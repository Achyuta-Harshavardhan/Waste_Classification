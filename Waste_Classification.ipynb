{
  "nbformat": 4,
  "nbformat_minor": 0,
  "metadata": {
    "colab": {
      "name": "Waste_Classification.ipynb",
      "provenance": [],
      "include_colab_link": true
    },
    "kernelspec": {
      "name": "python3",
      "display_name": "Python 3"
    },
    "accelerator": "GPU"
  },
  "cells": [
    {
      "cell_type": "markdown",
      "metadata": {
        "id": "view-in-github",
        "colab_type": "text"
      },
      "source": [
        "<a href=\"https://colab.research.google.com/github/Achyuta-Harshavardhan/Waste_Classification/blob/main/Waste_Classification.ipynb\" target=\"_parent\"><img src=\"https://colab.research.google.com/assets/colab-badge.svg\" alt=\"Open In Colab\"/></a>"
      ]
    },
    {
      "cell_type": "code",
      "metadata": {
        "id": "KSUZy7kGZmgS"
      },
      "source": [
        "# Import all the necessary libraries\n",
        "import matplotlib.pyplot as plt\n",
        "from tensorflow.keras.applications.vgg16 import VGG16,preprocess_input\n",
        "from tensorflow.keras.layers import Dense,Flatten\n",
        "from tensorflow.keras.models import Model\n",
        "from tensorflow.keras.preprocessing.image import ImageDataGenerator\n",
        "from zipfile import ZipFile\n",
        "from glob import glob"
      ],
      "execution_count": 1,
      "outputs": []
    },
    {
      "cell_type": "code",
      "metadata": {
        "colab": {
          "base_uri": "https://localhost:8080/",
          "height": 35
        },
        "id": "SpM2blJUtKxy",
        "outputId": "f62940c1-a87a-4d45-aa57-b9327d608c0d"
      },
      "source": [
        "'''\n",
        "# Extracting the zip file\n",
        "with ZipFile('/content/drive/MyDrive/Waste_classification/archive.zip','r') as zip:\n",
        "  zip.extractall()\n",
        "print('Done')\n",
        "'''"
      ],
      "execution_count": 2,
      "outputs": [
        {
          "output_type": "execute_result",
          "data": {
            "application/vnd.google.colaboratory.intrinsic+json": {
              "type": "string"
            },
            "text/plain": [
              "\"\\n# Extracting the zip file\\nwith ZipFile('/content/drive/MyDrive/Waste_classification/archive.zip','r') as zip:\\n  zip.extractall()\\nprint('Done')\\n\""
            ]
          },
          "metadata": {
            "tags": []
          },
          "execution_count": 2
        }
      ]
    },
    {
      "cell_type": "code",
      "metadata": {
        "colab": {
          "base_uri": "https://localhost:8080/"
        },
        "id": "A4WAWVbyZu0V",
        "outputId": "ea044bf8-c2d3-4814-db69-8c8add8406ed"
      },
      "source": [
        "# VGG19 Netwrork pretrained\n",
        "vgg = VGG16(input_shape=(224,224,3),weights='imagenet',include_top=False)"
      ],
      "execution_count": 3,
      "outputs": [
        {
          "output_type": "stream",
          "text": [
            "Downloading data from https://storage.googleapis.com/tensorflow/keras-applications/vgg16/vgg16_weights_tf_dim_ordering_tf_kernels_notop.h5\n",
            "58892288/58889256 [==============================] - 0s 0us/step\n"
          ],
          "name": "stdout"
        }
      ]
    },
    {
      "cell_type": "code",
      "metadata": {
        "id": "fke2hWBDcA58"
      },
      "source": [
        "# Making pretrained layers as not trainable\n",
        "vgg.trainable = False"
      ],
      "execution_count": 4,
      "outputs": []
    },
    {
      "cell_type": "code",
      "metadata": {
        "id": "pc5_tc2RdAlu"
      },
      "source": [
        "# Finding the number of classes\n",
        "folders = glob(\"/content/drive/MyDrive/Waste_classification/DATASET/TRAIN/*\")"
      ],
      "execution_count": 5,
      "outputs": []
    },
    {
      "cell_type": "code",
      "metadata": {
        "id": "lCWg2WP9cEUe"
      },
      "source": [
        "# Based on the the problem statement extra layers are added\n",
        "x = Flatten()(vgg.output)\n",
        "prediction = Dense(len(folders),activation = 'softmax')(x)"
      ],
      "execution_count": 6,
      "outputs": []
    },
    {
      "cell_type": "code",
      "metadata": {
        "id": "Q6A-bqD-cKnK"
      },
      "source": [
        "# Initiate the model\n",
        "model = Model(inputs=vgg.input,outputs=prediction)"
      ],
      "execution_count": 7,
      "outputs": []
    },
    {
      "cell_type": "code",
      "metadata": {
        "id": "DPPp6CdHcLRd",
        "colab": {
          "base_uri": "https://localhost:8080/"
        },
        "outputId": "24c26aee-9f50-4788-f993-bc4e8ff28ce9"
      },
      "source": [
        "# Summary of the model\n",
        "model.summary()"
      ],
      "execution_count": 8,
      "outputs": [
        {
          "output_type": "stream",
          "text": [
            "Model: \"model\"\n",
            "_________________________________________________________________\n",
            "Layer (type)                 Output Shape              Param #   \n",
            "=================================================================\n",
            "input_1 (InputLayer)         [(None, 224, 224, 3)]     0         \n",
            "_________________________________________________________________\n",
            "block1_conv1 (Conv2D)        (None, 224, 224, 64)      1792      \n",
            "_________________________________________________________________\n",
            "block1_conv2 (Conv2D)        (None, 224, 224, 64)      36928     \n",
            "_________________________________________________________________\n",
            "block1_pool (MaxPooling2D)   (None, 112, 112, 64)      0         \n",
            "_________________________________________________________________\n",
            "block2_conv1 (Conv2D)        (None, 112, 112, 128)     73856     \n",
            "_________________________________________________________________\n",
            "block2_conv2 (Conv2D)        (None, 112, 112, 128)     147584    \n",
            "_________________________________________________________________\n",
            "block2_pool (MaxPooling2D)   (None, 56, 56, 128)       0         \n",
            "_________________________________________________________________\n",
            "block3_conv1 (Conv2D)        (None, 56, 56, 256)       295168    \n",
            "_________________________________________________________________\n",
            "block3_conv2 (Conv2D)        (None, 56, 56, 256)       590080    \n",
            "_________________________________________________________________\n",
            "block3_conv3 (Conv2D)        (None, 56, 56, 256)       590080    \n",
            "_________________________________________________________________\n",
            "block3_pool (MaxPooling2D)   (None, 28, 28, 256)       0         \n",
            "_________________________________________________________________\n",
            "block4_conv1 (Conv2D)        (None, 28, 28, 512)       1180160   \n",
            "_________________________________________________________________\n",
            "block4_conv2 (Conv2D)        (None, 28, 28, 512)       2359808   \n",
            "_________________________________________________________________\n",
            "block4_conv3 (Conv2D)        (None, 28, 28, 512)       2359808   \n",
            "_________________________________________________________________\n",
            "block4_pool (MaxPooling2D)   (None, 14, 14, 512)       0         \n",
            "_________________________________________________________________\n",
            "block5_conv1 (Conv2D)        (None, 14, 14, 512)       2359808   \n",
            "_________________________________________________________________\n",
            "block5_conv2 (Conv2D)        (None, 14, 14, 512)       2359808   \n",
            "_________________________________________________________________\n",
            "block5_conv3 (Conv2D)        (None, 14, 14, 512)       2359808   \n",
            "_________________________________________________________________\n",
            "block5_pool (MaxPooling2D)   (None, 7, 7, 512)         0         \n",
            "_________________________________________________________________\n",
            "flatten (Flatten)            (None, 25088)             0         \n",
            "_________________________________________________________________\n",
            "dense (Dense)                (None, 2)                 50178     \n",
            "=================================================================\n",
            "Total params: 14,764,866\n",
            "Trainable params: 50,178\n",
            "Non-trainable params: 14,714,688\n",
            "_________________________________________________________________\n"
          ],
          "name": "stdout"
        }
      ]
    },
    {
      "cell_type": "code",
      "metadata": {
        "id": "HqBseam4cN0H"
      },
      "source": [
        "# Compile the model\n",
        "model.compile(\n",
        "    loss = 'categorical_crossentropy',\n",
        "    optimizer = 'adam',\n",
        "    metrics = ['accuracy']\n",
        ")"
      ],
      "execution_count": 9,
      "outputs": []
    },
    {
      "cell_type": "code",
      "metadata": {
        "id": "M30lIkMZcWVv"
      },
      "source": [
        "# Image Datagenerator\n",
        "data_generator = ImageDataGenerator(preprocessing_function=preprocess_input)"
      ],
      "execution_count": 10,
      "outputs": []
    },
    {
      "cell_type": "code",
      "metadata": {
        "id": "kss1ztHxchft",
        "colab": {
          "base_uri": "https://localhost:8080/"
        },
        "outputId": "24a62269-962a-45db-ce4f-1faedfdc6015"
      },
      "source": [
        "# Train data\n",
        "train_generator = data_generator.flow_from_directory('/content/drive/MyDrive/Waste_classification/DATASET/TRAIN',\n",
        "                                                     target_size = (224,224),\n",
        "                                                     batch_size = 64,\n",
        "                                                     class_mode = 'categorical')"
      ],
      "execution_count": 11,
      "outputs": [
        {
          "output_type": "stream",
          "text": [
            "Found 22564 images belonging to 2 classes.\n"
          ],
          "name": "stdout"
        }
      ]
    },
    {
      "cell_type": "code",
      "metadata": {
        "id": "SNVg7JPKci-Z",
        "colab": {
          "base_uri": "https://localhost:8080/"
        },
        "outputId": "9dcf089f-40a4-4763-aadd-a02b3651feb5"
      },
      "source": [
        "# Test data\n",
        "test_generator = data_generator.flow_from_directory('/content/drive/MyDrive/Waste_classification/DATASET/TEST',\n",
        "                                                     target_size = (224,224),\n",
        "                                                     batch_size = 64,\n",
        "                                                     class_mode = 'categorical')"
      ],
      "execution_count": 12,
      "outputs": [
        {
          "output_type": "stream",
          "text": [
            "Found 2513 images belonging to 2 classes.\n"
          ],
          "name": "stdout"
        }
      ]
    },
    {
      "cell_type": "code",
      "metadata": {
        "id": "zZg1dLMNcRNH",
        "colab": {
          "base_uri": "https://localhost:8080/"
        },
        "outputId": "38296e7f-8fcd-48b2-829c-1ab007491283"
      },
      "source": [
        "# Fit the model\n",
        "history = model.fit(train_generator,\n",
        "                    validation_data=test_generator,\n",
        "                    epochs = 10,\n",
        "                    steps_per_epoch=len(train_generator),\n",
        "                    validation_steps=len(test_generator))"
      ],
      "execution_count": 13,
      "outputs": [
        {
          "output_type": "stream",
          "text": [
            "Epoch 1/10\n",
            "353/353 [==============================] - 107s 292ms/step - loss: 3.3070 - accuracy: 0.8917 - val_loss: 9.1921 - val_accuracy: 0.8440\n",
            "Epoch 2/10\n",
            "353/353 [==============================] - 99s 280ms/step - loss: 1.6627 - accuracy: 0.9525 - val_loss: 8.8979 - val_accuracy: 0.8735\n",
            "Epoch 3/10\n",
            "353/353 [==============================] - 99s 280ms/step - loss: 0.9631 - accuracy: 0.9678 - val_loss: 9.1989 - val_accuracy: 0.8798\n",
            "Epoch 4/10\n",
            "353/353 [==============================] - 99s 280ms/step - loss: 0.6610 - accuracy: 0.9775 - val_loss: 6.4251 - val_accuracy: 0.9133\n",
            "Epoch 5/10\n",
            "353/353 [==============================] - 99s 280ms/step - loss: 0.5220 - accuracy: 0.9808 - val_loss: 8.0198 - val_accuracy: 0.8961\n",
            "Epoch 6/10\n",
            "353/353 [==============================] - 99s 279ms/step - loss: 0.4100 - accuracy: 0.9841 - val_loss: 10.0874 - val_accuracy: 0.8942\n",
            "Epoch 7/10\n",
            "353/353 [==============================] - 99s 280ms/step - loss: 0.4900 - accuracy: 0.9838 - val_loss: 14.6640 - val_accuracy: 0.8587\n",
            "Epoch 8/10\n",
            "353/353 [==============================] - 99s 280ms/step - loss: 0.3908 - accuracy: 0.9867 - val_loss: 18.0113 - val_accuracy: 0.8432\n",
            "Epoch 9/10\n",
            "353/353 [==============================] - 99s 279ms/step - loss: 0.4198 - accuracy: 0.9865 - val_loss: 11.7413 - val_accuracy: 0.8886\n",
            "Epoch 10/10\n",
            "353/353 [==============================] - 100s 283ms/step - loss: 0.2920 - accuracy: 0.9896 - val_loss: 9.3491 - val_accuracy: 0.9148\n"
          ],
          "name": "stdout"
        }
      ]
    },
    {
      "cell_type": "code",
      "metadata": {
        "id": "5OMDCBsycwh2",
        "colab": {
          "base_uri": "https://localhost:8080/",
          "height": 573
        },
        "outputId": "7eaf08bd-65ae-4a39-acdb-8aaccae5d049"
      },
      "source": [
        "# Plot training & validation accuracy values\n",
        "plt.plot(history.history['accuracy'])\n",
        "plt.plot(history.history['val_accuracy'])\n",
        "plt.title('Model accuracy')\n",
        "plt.ylabel('Accuracy')\n",
        "plt.xlabel('Epoch')\n",
        "plt.legend(['Train', 'Validate'], loc='upper left')\n",
        "plt.show()\n",
        "\n",
        "# Plot training & validation loss values\n",
        "plt.plot(history.history['loss'])\n",
        "plt.plot(history.history['val_loss'])\n",
        "plt.title('Model loss')\n",
        "plt.ylabel('Loss')\n",
        "plt.xlabel('Epoch')\n",
        "plt.legend(['Train', 'Validate'], loc='upper left')\n",
        "plt.show()"
      ],
      "execution_count": 14,
      "outputs": [
        {
          "output_type": "display_data",
          "data": {
            "image/png": "[encoded data removed]",
            "text/plain": [
              "<Figure size 432x288 with 1 Axes>"
            ]
          },
          "metadata": {
            "tags": [],
            "needs_background": "light"
          }
        },
        {
          "output_type": "display_data",
          "data": {
            "image/png": "[encoded data removed]",
            "text/plain": [
              "<Figure size 432x288 with 1 Axes>"
            ]
          },
          "metadata": {
            "tags": [],
            "needs_background": "light"
          }
        }
      ]
    }
  ]
}